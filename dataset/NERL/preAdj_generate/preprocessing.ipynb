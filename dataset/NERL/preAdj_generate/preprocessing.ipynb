{
 "cells": [
  {
   "cell_type": "code",
   "execution_count": 2,
   "metadata": {},
   "outputs": [],
   "source": [
    "import numpy as np\n",
    "import pandas as pd\n",
    "import seaborn as sns\n",
    "import os\n",
    "from scipy.spatial.distance import cdist\n",
    "import pickle"
   ]
  },
  {
   "cell_type": "code",
   "execution_count": 3,
   "metadata": {},
   "outputs": [],
   "source": [
    "#-------------------------------生成预定义邻接矩阵--------------------------\n",
    "file_dir = '../unit_25/locations.csv'\n",
    "out_dir = '../unit_25'\n",
    "\n",
    "# 计算距离矩阵\n",
    "location = pd.read_csv(file_dir)[['lat','lon']].values\n",
    "adj_mx =  cdist(location, location, metric='euclidean')\n",
    "\n",
    "# 选择σ，例如使用距离的中位数\n",
    "sigma = np.median(adj_mx)\n",
    "\n",
    "# 设定τ，例如选择距离的75%分位数\n",
    "tau = np.percentile(adj_mx, 75)\n",
    "\n",
    "# 构建邻接矩阵\n",
    "adj_mx = np.exp(-adj_mx ** 2 / (2 * sigma ** 2)) * (adj_mx < tau)\n",
    "\n",
    "# 将adj_mx保存为pkl文件\n",
    "with open('{}/adj_mx.pkl'.format(out_dir), 'wb') as f:\n",
    "    pickle.dump(adj_mx, f)"
   ]
  }
 ],
 "metadata": {
  "kernelspec": {
   "display_name": "Python 3",
   "language": "python",
   "name": "python3"
  },
  "language_info": {
   "codemirror_mode": {
    "name": "ipython",
    "version": 3
   },
   "file_extension": ".py",
   "mimetype": "text/x-python",
   "name": "python",
   "nbconvert_exporter": "python",
   "pygments_lexer": "ipython3",
   "version": "3.11.9"
  }
 },
 "nbformat": 4,
 "nbformat_minor": 2
}
